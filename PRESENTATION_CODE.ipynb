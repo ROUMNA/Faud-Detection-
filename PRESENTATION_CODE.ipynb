{
  "nbformat": 4,
  "nbformat_minor": 0,
  "metadata": {
    "colab": {
      "name": "PRESENTATION_CODE.ipynb",
      "provenance": []
    },
    "kernelspec": {
      "display_name": "Python 3",
      "name": "python3"
    },
    "language_info": {
      "name": "python"
    }
  },
  "cells": [
    {
      "cell_type": "code",
      "metadata": {
        "id": "OM_R47CIDJyT"
      },
      "source": [
        "import pandas as pd\n",
        "import numpy as np\n",
        "import matplotlib.pyplot as plt\n",
        "import seaborn as sn\n",
        "from sklearn.model_selection import train_test_split\n",
        "from sklearn.ensemble import IsolationForest\n",
        "from sklearn.preprocessing import StandardScaler\n",
        "from sklearn.metrics import f1_score, confusion_matrix, classification_report"
      ],
      "execution_count": null,
      "outputs": []
    },
    {
      "cell_type": "markdown",
      "metadata": {
        "id": "DAHiPqCo1Uc7"
      },
      "source": [
        "###### Presentation des données"
      ]
    },
    {
      "cell_type": "code",
      "metadata": {
        "colab": {
          "base_uri": "https://localhost:8080/"
        },
        "id": "_JFq4ial_4C8",
        "outputId": "fcca5f05-aa2d-4dd6-8834-27f5f13387e7"
      },
      "source": [
        "#chargement des datasets\n",
        "client_train = pd.read_csv('/content/drive/MyDrive/client_train.csv')\n",
        "invoice_train = pd.read_csv('/content/drive/MyDrive/invoice_train.csv')"
      ],
      "execution_count": null,
      "outputs": [
        {
          "output_type": "stream",
          "text": [
            "/usr/local/lib/python3.7/dist-packages/IPython/core/interactiveshell.py:2718: DtypeWarning: Columns (4) have mixed types.Specify dtype option on import or set low_memory=False.\n",
            "  interactivity=interactivity, compiler=compiler, result=result)\n"
          ],
          "name": "stderr"
        }
      ]
    },
    {
      "cell_type": "code",
      "metadata": {
        "colab": {
          "base_uri": "https://localhost:8080/",
          "height": 206
        },
        "id": "-2-415rC_4DL",
        "outputId": "4542b9dc-61f2-4251-b4eb-ba602f9e4468"
      },
      "source": [
        "client_train.head()"
      ],
      "execution_count": null,
      "outputs": [
        {
          "output_type": "execute_result",
          "data": {
            "text/html": [
              "<div>\n",
              "<style scoped>\n",
              "    .dataframe tbody tr th:only-of-type {\n",
              "        vertical-align: middle;\n",
              "    }\n",
              "\n",
              "    .dataframe tbody tr th {\n",
              "        vertical-align: top;\n",
              "    }\n",
              "\n",
              "    .dataframe thead th {\n",
              "        text-align: right;\n",
              "    }\n",
              "</style>\n",
              "<table border=\"1\" class=\"dataframe\">\n",
              "  <thead>\n",
              "    <tr style=\"text-align: right;\">\n",
              "      <th></th>\n",
              "      <th>disrict</th>\n",
              "      <th>client_id</th>\n",
              "      <th>client_catg</th>\n",
              "      <th>region</th>\n",
              "      <th>creation_date</th>\n",
              "      <th>target</th>\n",
              "    </tr>\n",
              "  </thead>\n",
              "  <tbody>\n",
              "    <tr>\n",
              "      <th>0</th>\n",
              "      <td>60</td>\n",
              "      <td>train_Client_0</td>\n",
              "      <td>11</td>\n",
              "      <td>101</td>\n",
              "      <td>31/12/1994</td>\n",
              "      <td>0.0</td>\n",
              "    </tr>\n",
              "    <tr>\n",
              "      <th>1</th>\n",
              "      <td>69</td>\n",
              "      <td>train_Client_1</td>\n",
              "      <td>11</td>\n",
              "      <td>107</td>\n",
              "      <td>29/05/2002</td>\n",
              "      <td>0.0</td>\n",
              "    </tr>\n",
              "    <tr>\n",
              "      <th>2</th>\n",
              "      <td>62</td>\n",
              "      <td>train_Client_10</td>\n",
              "      <td>11</td>\n",
              "      <td>301</td>\n",
              "      <td>13/03/1986</td>\n",
              "      <td>0.0</td>\n",
              "    </tr>\n",
              "    <tr>\n",
              "      <th>3</th>\n",
              "      <td>69</td>\n",
              "      <td>train_Client_100</td>\n",
              "      <td>11</td>\n",
              "      <td>105</td>\n",
              "      <td>11/07/1996</td>\n",
              "      <td>0.0</td>\n",
              "    </tr>\n",
              "    <tr>\n",
              "      <th>4</th>\n",
              "      <td>62</td>\n",
              "      <td>train_Client_1000</td>\n",
              "      <td>11</td>\n",
              "      <td>303</td>\n",
              "      <td>14/10/2014</td>\n",
              "      <td>0.0</td>\n",
              "    </tr>\n",
              "  </tbody>\n",
              "</table>\n",
              "</div>"
            ],
            "text/plain": [
              "   disrict          client_id  client_catg  region creation_date  target\n",
              "0       60     train_Client_0           11     101    31/12/1994     0.0\n",
              "1       69     train_Client_1           11     107    29/05/2002     0.0\n",
              "2       62    train_Client_10           11     301    13/03/1986     0.0\n",
              "3       69   train_Client_100           11     105    11/07/1996     0.0\n",
              "4       62  train_Client_1000           11     303    14/10/2014     0.0"
            ]
          },
          "metadata": {
            "tags": []
          },
          "execution_count": 5
        }
      ]
    },
    {
      "cell_type": "code",
      "metadata": {
        "colab": {
          "base_uri": "https://localhost:8080/",
          "height": 226
        },
        "id": "CU4VNP8W_4DP",
        "outputId": "02390463-a77a-436d-f05c-baaa05885e56"
      },
      "source": [
        "pd.set_option('display.max_columns',16)\n",
        "invoice_train.head(5)"
      ],
      "execution_count": null,
      "outputs": [
        {
          "output_type": "execute_result",
          "data": {
            "text/html": [
              "<div>\n",
              "<style scoped>\n",
              "    .dataframe tbody tr th:only-of-type {\n",
              "        vertical-align: middle;\n",
              "    }\n",
              "\n",
              "    .dataframe tbody tr th {\n",
              "        vertical-align: top;\n",
              "    }\n",
              "\n",
              "    .dataframe thead th {\n",
              "        text-align: right;\n",
              "    }\n",
              "</style>\n",
              "<table border=\"1\" class=\"dataframe\">\n",
              "  <thead>\n",
              "    <tr style=\"text-align: right;\">\n",
              "      <th></th>\n",
              "      <th>client_id</th>\n",
              "      <th>invoice_date</th>\n",
              "      <th>tarif_type</th>\n",
              "      <th>counter_number</th>\n",
              "      <th>counter_statue</th>\n",
              "      <th>counter_code</th>\n",
              "      <th>reading_remarque</th>\n",
              "      <th>counter_coefficient</th>\n",
              "      <th>consommation_level_1</th>\n",
              "      <th>consommation_level_2</th>\n",
              "      <th>consommation_level_3</th>\n",
              "      <th>consommation_level_4</th>\n",
              "      <th>old_index</th>\n",
              "      <th>new_index</th>\n",
              "      <th>months_number</th>\n",
              "      <th>counter_type</th>\n",
              "    </tr>\n",
              "  </thead>\n",
              "  <tbody>\n",
              "    <tr>\n",
              "      <th>0</th>\n",
              "      <td>train_Client_0</td>\n",
              "      <td>2014-03-24</td>\n",
              "      <td>11</td>\n",
              "      <td>1335667</td>\n",
              "      <td>0</td>\n",
              "      <td>203</td>\n",
              "      <td>8</td>\n",
              "      <td>1</td>\n",
              "      <td>82</td>\n",
              "      <td>0</td>\n",
              "      <td>0</td>\n",
              "      <td>0</td>\n",
              "      <td>14302</td>\n",
              "      <td>14384</td>\n",
              "      <td>4</td>\n",
              "      <td>ELEC</td>\n",
              "    </tr>\n",
              "    <tr>\n",
              "      <th>1</th>\n",
              "      <td>train_Client_0</td>\n",
              "      <td>2013-03-29</td>\n",
              "      <td>11</td>\n",
              "      <td>1335667</td>\n",
              "      <td>0</td>\n",
              "      <td>203</td>\n",
              "      <td>6</td>\n",
              "      <td>1</td>\n",
              "      <td>1200</td>\n",
              "      <td>184</td>\n",
              "      <td>0</td>\n",
              "      <td>0</td>\n",
              "      <td>12294</td>\n",
              "      <td>13678</td>\n",
              "      <td>4</td>\n",
              "      <td>ELEC</td>\n",
              "    </tr>\n",
              "    <tr>\n",
              "      <th>2</th>\n",
              "      <td>train_Client_0</td>\n",
              "      <td>2015-03-23</td>\n",
              "      <td>11</td>\n",
              "      <td>1335667</td>\n",
              "      <td>0</td>\n",
              "      <td>203</td>\n",
              "      <td>8</td>\n",
              "      <td>1</td>\n",
              "      <td>123</td>\n",
              "      <td>0</td>\n",
              "      <td>0</td>\n",
              "      <td>0</td>\n",
              "      <td>14624</td>\n",
              "      <td>14747</td>\n",
              "      <td>4</td>\n",
              "      <td>ELEC</td>\n",
              "    </tr>\n",
              "    <tr>\n",
              "      <th>3</th>\n",
              "      <td>train_Client_0</td>\n",
              "      <td>2015-07-13</td>\n",
              "      <td>11</td>\n",
              "      <td>1335667</td>\n",
              "      <td>0</td>\n",
              "      <td>207</td>\n",
              "      <td>8</td>\n",
              "      <td>1</td>\n",
              "      <td>102</td>\n",
              "      <td>0</td>\n",
              "      <td>0</td>\n",
              "      <td>0</td>\n",
              "      <td>14747</td>\n",
              "      <td>14849</td>\n",
              "      <td>4</td>\n",
              "      <td>ELEC</td>\n",
              "    </tr>\n",
              "    <tr>\n",
              "      <th>4</th>\n",
              "      <td>train_Client_0</td>\n",
              "      <td>2016-11-17</td>\n",
              "      <td>11</td>\n",
              "      <td>1335667</td>\n",
              "      <td>0</td>\n",
              "      <td>207</td>\n",
              "      <td>9</td>\n",
              "      <td>1</td>\n",
              "      <td>572</td>\n",
              "      <td>0</td>\n",
              "      <td>0</td>\n",
              "      <td>0</td>\n",
              "      <td>15066</td>\n",
              "      <td>15638</td>\n",
              "      <td>12</td>\n",
              "      <td>ELEC</td>\n",
              "    </tr>\n",
              "  </tbody>\n",
              "</table>\n",
              "</div>"
            ],
            "text/plain": [
              "        client_id invoice_date  tarif_type  counter_number counter_statue  \\\n",
              "0  train_Client_0   2014-03-24          11         1335667              0   \n",
              "1  train_Client_0   2013-03-29          11         1335667              0   \n",
              "2  train_Client_0   2015-03-23          11         1335667              0   \n",
              "3  train_Client_0   2015-07-13          11         1335667              0   \n",
              "4  train_Client_0   2016-11-17          11         1335667              0   \n",
              "\n",
              "   counter_code  reading_remarque  counter_coefficient  consommation_level_1  \\\n",
              "0           203                 8                    1                    82   \n",
              "1           203                 6                    1                  1200   \n",
              "2           203                 8                    1                   123   \n",
              "3           207                 8                    1                   102   \n",
              "4           207                 9                    1                   572   \n",
              "\n",
              "   consommation_level_2  consommation_level_3  consommation_level_4  \\\n",
              "0                     0                     0                     0   \n",
              "1                   184                     0                     0   \n",
              "2                     0                     0                     0   \n",
              "3                     0                     0                     0   \n",
              "4                     0                     0                     0   \n",
              "\n",
              "   old_index  new_index  months_number counter_type  \n",
              "0      14302      14384              4         ELEC  \n",
              "1      12294      13678              4         ELEC  \n",
              "2      14624      14747              4         ELEC  \n",
              "3      14747      14849              4         ELEC  \n",
              "4      15066      15638             12         ELEC  "
            ]
          },
          "metadata": {
            "tags": []
          },
          "execution_count": 6
        }
      ]
    },
    {
      "cell_type": "markdown",
      "metadata": {
        "id": "lfc0_Vdi_4DS"
      },
      "source": [
        "## Analyse exploratoire des données"
      ]
    },
    {
      "cell_type": "markdown",
      "metadata": {
        "id": "Lp6-Ti3-_4DV"
      },
      "source": [
        "###### Analyse de forme "
      ]
    },
    {
      "cell_type": "code",
      "metadata": {
        "colab": {
          "base_uri": "https://localhost:8080/"
        },
        "id": "ZIIJ7wq9_4DY",
        "outputId": "d46956a5-93e0-4bdd-a68f-214f03717b30"
      },
      "source": [
        "#nombres de clients different\n",
        "len(client_train['client_id'].unique()), len(invoice_train['client_id'].unique())"
      ],
      "execution_count": null,
      "outputs": [
        {
          "output_type": "execute_result",
          "data": {
            "text/plain": [
              "(135493, 135493)"
            ]
          },
          "metadata": {
            "tags": []
          },
          "execution_count": 7
        }
      ]
    },
    {
      "cell_type": "code",
      "metadata": {
        "colab": {
          "base_uri": "https://localhost:8080/"
        },
        "id": "IfPqaRQ4_4Dd",
        "outputId": "e0f01511-02fe-4a2f-8855-422b9e5e8a2e"
      },
      "source": [
        "#la target fraud 1, not fraud 0\n",
        "client_train['target'].value_counts()/client_train.shape[0]*100"
      ],
      "execution_count": null,
      "outputs": [
        {
          "output_type": "execute_result",
          "data": {
            "text/plain": [
              "0.0    94.415948\n",
              "1.0     5.584052\n",
              "Name: target, dtype: float64"
            ]
          },
          "metadata": {
            "tags": []
          },
          "execution_count": 8
        }
      ]
    },
    {
      "cell_type": "code",
      "metadata": {
        "colab": {
          "base_uri": "https://localhost:8080/"
        },
        "id": "1FZpSW30_4Df",
        "outputId": "3828669a-faec-4317-889a-13052b3af3af"
      },
      "source": [
        "#les shapes\n",
        "client_train.shape , invoice_train.shape"
      ],
      "execution_count": null,
      "outputs": [
        {
          "output_type": "execute_result",
          "data": {
            "text/plain": [
              "((135493, 6), (4476749, 16))"
            ]
          },
          "metadata": {
            "tags": []
          },
          "execution_count": 9
        }
      ]
    },
    {
      "cell_type": "code",
      "metadata": {
        "colab": {
          "base_uri": "https://localhost:8080/"
        },
        "id": "6hF9uISA_4Dm",
        "outputId": "e26820bf-feaf-4476-dc9b-3254fc824687"
      },
      "source": [
        "# les types de variables \n",
        "client_train.info() , invoice_train.info()"
      ],
      "execution_count": null,
      "outputs": [
        {
          "output_type": "stream",
          "text": [
            "<class 'pandas.core.frame.DataFrame'>\n",
            "RangeIndex: 135493 entries, 0 to 135492\n",
            "Data columns (total 6 columns):\n",
            " #   Column         Non-Null Count   Dtype  \n",
            "---  ------         --------------   -----  \n",
            " 0   disrict        135493 non-null  int64  \n",
            " 1   client_id      135493 non-null  object \n",
            " 2   client_catg    135493 non-null  int64  \n",
            " 3   region         135493 non-null  int64  \n",
            " 4   creation_date  135493 non-null  object \n",
            " 5   target         135493 non-null  float64\n",
            "dtypes: float64(1), int64(3), object(2)\n",
            "memory usage: 6.2+ MB\n",
            "<class 'pandas.core.frame.DataFrame'>\n",
            "RangeIndex: 4476749 entries, 0 to 4476748\n",
            "Data columns (total 16 columns):\n",
            " #   Column                Dtype \n",
            "---  ------                ----- \n",
            " 0   client_id             object\n",
            " 1   invoice_date          object\n",
            " 2   tarif_type            int64 \n",
            " 3   counter_number        int64 \n",
            " 4   counter_statue        object\n",
            " 5   counter_code          int64 \n",
            " 6   reading_remarque      int64 \n",
            " 7   counter_coefficient   int64 \n",
            " 8   consommation_level_1  int64 \n",
            " 9   consommation_level_2  int64 \n",
            " 10  consommation_level_3  int64 \n",
            " 11  consommation_level_4  int64 \n",
            " 12  old_index             int64 \n",
            " 13  new_index             int64 \n",
            " 14  months_number         int64 \n",
            " 15  counter_type          object\n",
            "dtypes: int64(12), object(4)\n",
            "memory usage: 546.5+ MB\n"
          ],
          "name": "stdout"
        },
        {
          "output_type": "execute_result",
          "data": {
            "text/plain": [
              "(None, None)"
            ]
          },
          "metadata": {
            "tags": []
          },
          "execution_count": 10
        }
      ]
    },
    {
      "cell_type": "code",
      "metadata": {
        "colab": {
          "base_uri": "https://localhost:8080/"
        },
        "id": "O2MGg0Y6_4Dr",
        "outputId": "6e8ec0b7-dcfe-4a3e-bd3c-4186e37d22c6"
      },
      "source": [
        "# les données manquantes \n",
        "client_train.isna().sum() , invoice_train.isna().sum()"
      ],
      "execution_count": null,
      "outputs": [
        {
          "output_type": "execute_result",
          "data": {
            "text/plain": [
              "(disrict          0\n",
              " client_id        0\n",
              " client_catg      0\n",
              " region           0\n",
              " creation_date    0\n",
              " target           0\n",
              " dtype: int64, client_id               0\n",
              " invoice_date            0\n",
              " tarif_type              0\n",
              " counter_number          0\n",
              " counter_statue          0\n",
              " counter_code            0\n",
              " reading_remarque        0\n",
              " counter_coefficient     0\n",
              " consommation_level_1    0\n",
              " consommation_level_2    0\n",
              " consommation_level_3    0\n",
              " consommation_level_4    0\n",
              " old_index               0\n",
              " new_index               0\n",
              " months_number           0\n",
              " counter_type            0\n",
              " dtype: int64)"
            ]
          },
          "metadata": {
            "tags": []
          },
          "execution_count": 11
        }
      ]
    },
    {
      "cell_type": "markdown",
      "metadata": {
        "id": "-7Hu5LBu_4Dy"
      },
      "source": [
        "###### Analyse de fond "
      ]
    },
    {
      "cell_type": "code",
      "metadata": {
        "colab": {
          "base_uri": "https://localhost:8080/",
          "height": 265
        },
        "id": "mDGHl2UK_4D0",
        "outputId": "886f46fa-f869-40f7-c253-3c38bf5c752b"
      },
      "source": [
        "#repartion des classes \n",
        "client_train['target'].value_counts(True).plot.pie() # on peut noter que les données sont trop  desequilibrer "
      ],
      "execution_count": null,
      "outputs": [
        {
          "output_type": "execute_result",
          "data": {
            "text/plain": [
              "<matplotlib.axes._subplots.AxesSubplot at 0x7fdca6e51fd0>"
            ]
          },
          "metadata": {
            "tags": []
          },
          "execution_count": 12
        },
        {
          "output_type": "display_data",
          "data": {
            "image/png": "[encoded data removed]",
            "text/plain": [
              "<Figure size 432x288 with 1 Axes>"
            ]
          },
          "metadata": {
            "tags": []
          }
        }
      ]
    },
    {
      "cell_type": "code",
      "metadata": {
        "colab": {
          "base_uri": "https://localhost:8080/"
        },
        "id": "Kn6HmKGx_4D2",
        "outputId": "a6a99bc8-c5fc-4c8c-dc6a-1e20082166aa"
      },
      "source": [
        "#les variables de type int dans le client\n",
        "for col in client_train.select_dtypes('int64'):\n",
        "    print(f'{col}----------------------',client_train[col].unique())"
      ],
      "execution_count": null,
      "outputs": [
        {
          "output_type": "stream",
          "text": [
            "disrict---------------------- [60 69 62 63]\n",
            "client_catg---------------------- [11 12 51]\n",
            "region---------------------- [101 107 301 105 303 103 309 311 304 104 312 305 306 308 372 307 313 310\n",
            " 371 302 106 379 399 206 199]\n"
          ],
          "name": "stdout"
        }
      ]
    },
    {
      "cell_type": "code",
      "metadata": {
        "colab": {
          "base_uri": "https://localhost:8080/"
        },
        "id": "1VY-XW4a_4D5",
        "scrolled": true,
        "outputId": "e1261170-09c2-4178-f64a-cd93964f6a05"
      },
      "source": [
        "#les variables de type int dans le invoice\n",
        "for col in invoice_train.select_dtypes('int64'):\n",
        "    print(f'{col}----------------------',invoice_train[col].unique())"
      ],
      "execution_count": null,
      "outputs": [
        {
          "output_type": "stream",
          "text": [
            "tarif_type---------------------- [11 40 15 10 12 14 13 45 29  9 30  8 21 42 27 18 24]\n",
            "counter_number---------------------- [1335667  678902  572765 ... 4811719  262195  560948]\n",
            "counter_code---------------------- [203 207 413   5 467 202 420 410  10 483  25 433 407 204 214 442 453 506\n",
            " 450 403 333 201 102 305 210 101 532  40 310 565 600 307 303 222  65   0\n",
            " 227 325  16 317 367   1]\n",
            "reading_remarque---------------------- [  8   6   9   7 207 413 203   5]\n",
            "counter_coefficient---------------------- [ 1  3  0 10  4 33 50 20  2  6 40  9 30  5 11  8]\n",
            "consommation_level_1---------------------- [   82  1200   123 ... 43053  4824  8314]\n",
            "consommation_level_2---------------------- [    0   184   186 ... 46017 29019 32001]\n",
            "consommation_level_3---------------------- [   0  800   43 ... 1710 1750 1390]\n",
            "consommation_level_4---------------------- [    0   382   132 ...  8613  8859 12645]\n",
            "old_index---------------------- [ 14302  12294  14624 ... 141551 110850  86004]\n",
            "new_index---------------------- [ 14384  13678  14747 ... 168700 127495  83410]\n",
            "months_number---------------------- [     4     12      8 ... 367445 459733 463554]\n"
          ],
          "name": "stdout"
        }
      ]
    },
    {
      "cell_type": "code",
      "metadata": {
        "colab": {
          "base_uri": "https://localhost:8080/"
        },
        "id": "4LrFQ5Sm_4D7",
        "outputId": "aab89f5c-5ab6-4be7-e4b1-12dd88edf644"
      },
      "source": [
        "##les categories de type object dans le client\n",
        "for col in invoice_train.select_dtypes('object'):\n",
        "    print(f'{col}----------------------',invoice_train[col].unique())"
      ],
      "execution_count": null,
      "outputs": [
        {
          "output_type": "stream",
          "text": [
            "client_id---------------------- ['train_Client_0' 'train_Client_1' 'train_Client_10' ...\n",
            " 'train_Client_99997' 'train_Client_99998' 'train_Client_99999']\n",
            "invoice_date---------------------- ['2014-03-24' '2013-03-29' '2015-03-23' ... '1995-11-28' '1982-07-04'\n",
            " '1996-09-02']\n",
            "counter_statue---------------------- [0 1 5 4 3 2 769 '0' '5' '1' '4' 'A' 618 269375 46 420]\n",
            "counter_type---------------------- ['ELEC' 'GAZ']\n"
          ],
          "name": "stdout"
        }
      ]
    },
    {
      "cell_type": "code",
      "metadata": {
        "colab": {
          "base_uri": "https://localhost:8080/",
          "height": 265
        },
        "id": "X15bpLBeXweC",
        "outputId": "b58a3a41-d22c-4940-de01-4cee09fe603d"
      },
      "source": [
        "#repartition des types de compteurs \n",
        "invoice_train['counter_type'].value_counts(True).plot.pie()"
      ],
      "execution_count": null,
      "outputs": [
        {
          "output_type": "execute_result",
          "data": {
            "text/plain": [
              "<matplotlib.axes._subplots.AxesSubplot at 0x7fdca688c910>"
            ]
          },
          "metadata": {
            "tags": []
          },
          "execution_count": 17
        },
        {
          "output_type": "display_data",
          "data": {
            "image/png": "[encoded data removed]",
            "text/plain": [
              "<Figure size 432x288 with 1 Axes>"
            ]
          },
          "metadata": {
            "tags": []
          }
        }
      ]
    },
    {
      "cell_type": "markdown",
      "metadata": {
        "id": "V-PrlBvkUUvz"
      },
      "source": [
        "# PRE_PROCESSING"
      ]
    },
    {
      "cell_type": "code",
      "metadata": {
        "id": "lnP9u5DLKZZd"
      },
      "source": [
        "#fonction Merger le invoice et le client\n",
        "def merge_data (invoice, client) : \n",
        "\n",
        "  return invoice.merge(client)\n",
        "\n",
        "\n",
        "#suppression des valeurs aberantes\n",
        "def supp_Vl_aberantes (dataset) : \n",
        "\n",
        "    iso = IsolationForest()\n",
        "    iso.fit(dataset.select_dtypes('int64'))\n",
        "    iso_array = iso.predict(dataset.select_dtypes('int64'))\n",
        "    dataset[iso_array==-1]['target'].value_counts()\n",
        "    dataset = dataset[iso_array==1]\n",
        "    \n",
        "    return dataset\n",
        "\n",
        "\n",
        "#undersampling function\n",
        "def under_sampling (data) :\n",
        "  iso = IsolationForest()\n",
        "  for i in range(5): \n",
        "    iso.fit(data.select_dtypes('int64'))\n",
        "    iso_array = iso.predict(data.select_dtypes('int64'))\n",
        "    data = data[iso_array==1]\n",
        "\n",
        "  return data    \n",
        "\n",
        "\n",
        "#padding function\n",
        "def pad_lot(lot_facts, seuil):\n",
        "\n",
        "    #si le nombre de factures est superieur au seuil on ecarte le reste \n",
        "    if len(lot_facts) >= seuil:\n",
        "        lot_facts_padded = lot_facts.iloc[:seuil, :]\n",
        "\n",
        "    # si non on complete par la derniere facture pour atteindre le seuil\n",
        "    else:\n",
        "        #On calcul l'ecart entre le seuil et la taille du lot\n",
        "        ecart = seuil - len(lot_facts)\n",
        "        ecart_df = pd.DataFrame([lot_facts.iloc[-1]]*ecart)\n",
        "        #On concat lot_fact et le dataframe contenant uniquement la derniere facture de lot_fact ecart fois \n",
        "        lot_facts_padded = pd.concat([lot_facts, ecart_df], ignore_index=True)\n",
        "      \n",
        "    return lot_facts_padded\n",
        "\n",
        "\n",
        "\n",
        "#fonction qui met dans une liste tous les lots de factures du dataset\n",
        "def lister_dataset_padded (data, nb_factures) :\n",
        "  depart=0\n",
        "  list_facts= []\n",
        "  for nb in range(len(data.groupby('client_id'))) :\n",
        "    list_facts.append(data.iloc[depart:depart + nb_factures,:].drop('client_id', axis=1))\n",
        "    depart = depart + nb_factures\n",
        "\n",
        "  return list_facts \n",
        "  "
      ],
      "execution_count": null,
      "outputs": []
    },
    {
      "cell_type": "code",
      "metadata": {
        "id": "fgq5rpO_DSRS"
      },
      "source": [
        "def pre_processing (invoice , client) : \n",
        "\n",
        "#merger le invoice et le client\n",
        "  dataset = merge_data(invoice, client)\n",
        "\n",
        "#suppression des valeurs aberantes\n",
        "  dataset = supp_Vl_aberantes(dataset)\n",
        "\n",
        "# division de la base par classe\n",
        "  class_0 = dataset[dataset['target']==0].reset_index(drop=True)\n",
        "  class_1 = dataset[dataset['target']==1].reset_index(drop=True)\n",
        "\n",
        "#undersampling sur la classe 0\n",
        "  class_0 = under_sampling(class_0)\n",
        "\n",
        "#concatenons class_0 et class_1\n",
        "  dataset =pd.concat([class_0,class_1], ignore_index=True)\n",
        "  \n",
        "#rangement des factures par client_id et invoice_date\n",
        "  dataset = dataset.sort_values(by=['client_id','invoice_date'], ignore_index=True)\n",
        "\n",
        "# selection de variables \n",
        "  cols = ['client_id','tarif_type','counter_coefficient','consommation_level_1','consommation_level_2',\n",
        "          'consommation_level_3','consommation_level_4','old_index','new_index','months_number','target']\n",
        "  data = dataset[cols] \n",
        "  \n",
        "\n",
        "#padding data\n",
        "  dataset_padded = data.groupby('client_id').apply(pad_lot, 100).reset_index(drop=True)\n",
        "\n",
        "#colonne a standardiser et colonnes à categoriser\n",
        "  col_to_scaling = ['consommation_level_1','consommation_level_2','consommation_level_3','consommation_level_4','new_index','old_index','months_number']\n",
        "  col_cat = ['tarif_type','counter_coefficient']\n",
        "\n",
        "#rendre categorielle les colonnes et rendre numerique ensuite\n",
        "  dataset_padded[col_cat] = dataset_padded[col_cat].astype('category')\n",
        "  dataset_padded = pd.get_dummies(dataset_padded, columns=col_cat, drop_first=True)\n",
        "\n",
        "#standardiser les variables continues\n",
        "  std = StandardScaler()\n",
        "  dataset_padded[col_to_scaling]=std.fit_transform(dataset_padded[col_to_scaling])\n",
        "\n",
        "#recuperation de la target\n",
        "  client = client.set_index(client['client_id']).drop('client_id',axis=1)\n",
        "  target = client.loc[list(dataset_padded.client_id.unique())].target\n",
        "  dataset_padded.drop(['target'],axis=1, inplace=True)\n",
        "  print(dataset_padded.shape)\n",
        "\n",
        "#lister_lot sur dataset_padded\n",
        "  dataset_padded_list = lister_dataset_padded(dataset_padded,100)\n",
        " \n",
        "\n",
        "#transformer en numpy array la liste des sequences de 100 factures\n",
        "  label = np.asarray(target)\n",
        "  data_clean = np.asarray(dataset_padded_list)\n",
        "  \n",
        "\n",
        "  return data_clean, label\n",
        "\n",
        "   "
      ],
      "execution_count": null,
      "outputs": []
    },
    {
      "cell_type": "code",
      "metadata": {
        "colab": {
          "base_uri": "https://localhost:8080/"
        },
        "id": "-vyF0qAYY6Ed",
        "outputId": "4771920c-00b9-4f68-97b7-6d0e6a5ed768"
      },
      "source": [
        "data_clean , label = pre_processing(invoice_train, client_train)"
      ],
      "execution_count": null,
      "outputs": [
        {
          "output_type": "stream",
          "text": [
            "(7719900, 23)\n"
          ],
          "name": "stdout"
        }
      ]
    },
    {
      "cell_type": "markdown",
      "metadata": {
        "id": "TND6IBwfPb-r"
      },
      "source": [
        "# MODELISATION"
      ]
    },
    {
      "cell_type": "code",
      "metadata": {
        "id": "ZB9sjRX3PbC4"
      },
      "source": [
        "#Import package\n",
        "import tensorflow as tf\n",
        "from tensorflow.keras.models import Sequential\n",
        "from tensorflow.keras.layers import Dense, Dropout\n",
        "from tensorflow.keras import regularizers\n",
        "from tensorflow.keras.callbacks import EarlyStopping\n",
        "from tensorflow.keras.callbacks import TensorBoard\n",
        "\n",
        "#Instaciation du model\n",
        "def my_model (input_shape) :\n",
        "  model = tf.keras.Sequential()\n",
        "  model.add(tf.keras.layers.Input(shape=input_shape))\n",
        "  model.add(tf.keras.layers.LSTM(100))\n",
        "  model.add(tf.keras.layers.Dense(64, activation='relu',kernel_regularizer=regularizers.l2()))\n",
        "  model.add(tf.keras.layers.Dense(64, activation='relu',kernel_regularizer=regularizers.l2()))\n",
        "  model.add(tf.keras.layers.Dense(1, activation='sigmoid', kernel_regularizer=regularizers.l2()))\n",
        "  #Compilation du model\n",
        "  model.compile(optimizer='adam', loss='binary_crossentropy',  metrics=['acc',tf.keras.metrics.FalsePositives(),tf.keras.metrics.FalseNegatives()])\n",
        "  return model\n",
        "    \n",
        "\n",
        "#fonction de prediction\n",
        "def y_predict (model, X_val):\n",
        "  y_pred = []\n",
        "  for m in model.predict(X_val) : \n",
        "    if  m[0] > .5 :\n",
        "      y_pred.append(1)\n",
        "    else : \n",
        "        y_pred.append(0)\n",
        "  return np.asarray(y_pred) \n",
        "\n",
        "\n",
        "\n",
        "# Definir les callbacks\n",
        "callbacks = [EarlyStopping(monitor='val_loss', patience=10),\n",
        "             TensorBoard(log_dir='./Graph', histogram_freq=0, write_graph=True, write_images=True)]\n",
        "\n",
        "\n",
        "\n",
        "#Entrainement et Evaluation du model\n",
        "def evaluation (model) : \n",
        "    \n",
        "    history = model.fit(X_train,y_train, epochs=100, validation_split=.2, batch_size=128, class_weight={0:1, 1:nb_0s//nb_1s},callbacks=callbacks)\n",
        "    y_pred = y_predict(model, X_val)\n",
        "    \n",
        "    print (confusion_matrix(y_val,y_pred))\n",
        "    print( classification_report(y_val,y_pred))\n",
        "\n",
        "    print(history.history.keys())\n",
        "\n",
        "    # summarize history for accuracy\n",
        "    plt.plot(history.history['acc'])\n",
        "    plt.plot(history.history['val_acc'])\n",
        "    plt.title('model accuracy')\n",
        "    plt.ylabel('accuracy')\n",
        "    plt.xlabel('epoch')\n",
        "    plt.legend(['train', 'test'], loc='upper left')\n",
        "    plt.show()\n",
        "\n",
        "    # summarize history for false_negatives\n",
        "    plt.plot(history.history['false_negatives_2'])\n",
        "    plt.plot(history.history['val_false_negatives_2'])\n",
        "    plt.title('model false_negatives')\n",
        "    plt.ylabel('false_negatives')\n",
        "    plt.xlabel('epoch')\n",
        "    plt.legend(['train', 'test'], loc='upper left')\n",
        "    plt.show()\n",
        "    \n",
        "    # summarize history for false_positives\n",
        "    plt.plot(history.history['false_positives_2'])\n",
        "    plt.plot(history.history['val_false_positives_2'])\n",
        "    plt.title('model false_positives')\n",
        "    plt.ylabel('false_positives')\n",
        "    plt.xlabel('epoch')\n",
        "    plt.legend(['train', 'test'], loc='upper left')\n",
        "    plt.show()\n",
        "\n",
        "    # summarize history for loss\n",
        "    plt.plot(history.history['loss'])\n",
        "    plt.plot(history.history['val_loss'])\n",
        "    plt.title('model loss')\n",
        "    plt.ylabel('loss')\n",
        "    plt.xlabel('epoch')\n",
        "    plt.legend(['train', 'test'], loc='upper left')\n",
        "    plt.show()\n",
        "\n",
        "\n"
      ],
      "execution_count": null,
      "outputs": []
    },
    {
      "cell_type": "markdown",
      "metadata": {
        "id": "x0EsjJ9Js_uH"
      },
      "source": [
        "#APPLICATIONS"
      ]
    },
    {
      "cell_type": "code",
      "metadata": {
        "id": "mFTN9b40qwqf"
      },
      "source": [
        "X_train, X_val , y_train, y_val = train_test_split(data_clean, label, test_size=.2, random_state=42)\n",
        "\n",
        "# equilibrage des classes\n",
        "nb_1s = sum(label)\n",
        "nb_0s = len(label) - nb_1s"
      ],
      "execution_count": null,
      "outputs": []
    },
    {
      "cell_type": "code",
      "metadata": {
        "colab": {
          "base_uri": "https://localhost:8080/",
          "height": 1000
        },
        "id": "LqjQuMNvTFhG",
        "outputId": "e8c4227f-509e-4c66-8c12-29e3d5d42e0f"
      },
      "source": [
        "model = my_model((data_clean.shape[1], data_clean.shape[2]))\n",
        "evaluation(model)"
      ],
      "execution_count": null,
      "outputs": [
        {
          "output_type": "stream",
          "text": [
            "Epoch 1/100\n",
            "361/361 [==============================] - 53s 141ms/step - loss: 1.5266 - acc: 0.8260 - false_positives_2: 3042.5083 - false_negatives_2: 511.2376 - val_loss: 0.5975 - val_acc: 0.9131 - val_false_positives_2: 610.0000 - val_false_negatives_2: 392.0000\n",
            "Epoch 2/100\n",
            "361/361 [==============================] - 50s 139ms/step - loss: 0.8699 - acc: 0.8676 - false_positives_2: 2401.3066 - false_negatives_2: 610.0580 - val_loss: 0.2813 - val_acc: 0.9518 - val_false_positives_2: 281.0000 - val_false_negatives_2: 275.0000\n",
            "Epoch 3/100\n",
            "361/361 [==============================] - 50s 138ms/step - loss: 0.5369 - acc: 0.9309 - false_positives_2: 1278.9724 - false_negatives_2: 302.5166 - val_loss: 0.2067 - val_acc: 0.9721 - val_false_positives_2: 207.0000 - val_false_negatives_2: 114.0000\n",
            "Epoch 4/100\n",
            "361/361 [==============================] - 50s 139ms/step - loss: 0.3981 - acc: 0.9626 - false_positives_2: 625.7044 - false_negatives_2: 214.7017 - val_loss: 0.1375 - val_acc: 0.9820 - val_false_positives_2: 67.0000 - val_false_negatives_2: 141.0000\n",
            "Epoch 5/100\n",
            "361/361 [==============================] - 50s 139ms/step - loss: 0.3510 - acc: 0.9628 - false_positives_2: 692.9503 - false_negatives_2: 175.4227 - val_loss: 0.1658 - val_acc: 0.9669 - val_false_positives_2: 314.0000 - val_false_negatives_2: 68.0000\n",
            "Epoch 6/100\n",
            "361/361 [==============================] - 50s 139ms/step - loss: 0.3084 - acc: 0.9677 - false_positives_2: 544.1768 - false_negatives_2: 157.5331 - val_loss: 0.1436 - val_acc: 0.9798 - val_false_positives_2: 167.0000 - val_false_negatives_2: 66.0000\n",
            "Epoch 7/100\n",
            "361/361 [==============================] - 50s 138ms/step - loss: 0.3015 - acc: 0.9711 - false_positives_2: 493.7762 - false_negatives_2: 158.2486 - val_loss: 0.1304 - val_acc: 0.9814 - val_false_positives_2: 149.0000 - val_false_negatives_2: 65.0000\n",
            "Epoch 8/100\n",
            "361/361 [==============================] - 50s 138ms/step - loss: 0.2716 - acc: 0.9764 - false_positives_2: 441.2486 - false_negatives_2: 140.6796 - val_loss: 0.1175 - val_acc: 0.9811 - val_false_positives_2: 155.0000 - val_false_negatives_2: 63.0000\n",
            "Epoch 9/100\n",
            "361/361 [==============================] - 50s 138ms/step - loss: 0.2465 - acc: 0.9787 - false_positives_2: 388.3564 - false_negatives_2: 127.7624 - val_loss: 0.1134 - val_acc: 0.9844 - val_false_positives_2: 114.0000 - val_false_negatives_2: 66.0000\n",
            "Epoch 10/100\n",
            "361/361 [==============================] - 50s 138ms/step - loss: 0.2528 - acc: 0.9764 - false_positives_2: 414.8508 - false_negatives_2: 134.5414 - val_loss: 0.1219 - val_acc: 0.9839 - val_false_positives_2: 127.0000 - val_false_negatives_2: 59.0000\n",
            "Epoch 11/100\n",
            "361/361 [==============================] - 50s 138ms/step - loss: 0.2471 - acc: 0.9770 - false_positives_2: 422.5746 - false_negatives_2: 128.0994 - val_loss: 0.0984 - val_acc: 0.9878 - val_false_positives_2: 65.0000 - val_false_negatives_2: 76.0000\n",
            "Epoch 12/100\n",
            "361/361 [==============================] - 50s 139ms/step - loss: 0.2348 - acc: 0.9765 - false_positives_2: 434.0221 - false_negatives_2: 127.6188 - val_loss: 0.1737 - val_acc: 0.9612 - val_false_positives_2: 401.0000 - val_false_negatives_2: 46.0000\n",
            "Epoch 13/100\n",
            "361/361 [==============================] - 50s 139ms/step - loss: 0.2445 - acc: 0.9770 - false_positives_2: 372.9116 - false_negatives_2: 117.6188 - val_loss: 0.1414 - val_acc: 0.9693 - val_false_positives_2: 318.0000 - val_false_negatives_2: 36.0000\n",
            "Epoch 14/100\n",
            "361/361 [==============================] - 50s 139ms/step - loss: 0.2088 - acc: 0.9767 - false_positives_2: 407.9254 - false_negatives_2: 102.9365 - val_loss: 0.1455 - val_acc: 0.9694 - val_false_positives_2: 313.0000 - val_false_negatives_2: 40.0000\n",
            "Epoch 15/100\n",
            "361/361 [==============================] - 50s 139ms/step - loss: 0.2151 - acc: 0.9782 - false_positives_2: 381.2541 - false_negatives_2: 114.5083 - val_loss: 0.1926 - val_acc: 0.9563 - val_false_positives_2: 472.0000 - val_false_negatives_2: 32.0000\n",
            "Epoch 16/100\n",
            "361/361 [==============================] - 50s 139ms/step - loss: 0.2041 - acc: 0.9794 - false_positives_2: 353.4807 - false_negatives_2: 103.0359 - val_loss: 0.1318 - val_acc: 0.9748 - val_false_positives_2: 251.0000 - val_false_negatives_2: 39.0000\n",
            "Epoch 17/100\n",
            "361/361 [==============================] - 50s 138ms/step - loss: 0.1986 - acc: 0.9820 - false_positives_2: 319.1906 - false_negatives_2: 101.8149 - val_loss: 0.1070 - val_acc: 0.9833 - val_false_positives_2: 143.0000 - val_false_negatives_2: 50.0000\n",
            "Epoch 18/100\n",
            "361/361 [==============================] - 50s 138ms/step - loss: 0.2053 - acc: 0.9800 - false_positives_2: 365.1989 - false_negatives_2: 100.7017 - val_loss: 0.1627 - val_acc: 0.9534 - val_false_positives_2: 508.0000 - val_false_negatives_2: 29.0000\n",
            "Epoch 19/100\n",
            "361/361 [==============================] - 50s 138ms/step - loss: 0.2033 - acc: 0.9792 - false_positives_2: 347.5470 - false_negatives_2: 95.7293 - val_loss: 0.1136 - val_acc: 0.9839 - val_false_positives_2: 130.0000 - val_false_negatives_2: 55.0000\n",
            "Epoch 20/100\n",
            "361/361 [==============================] - 50s 139ms/step - loss: 0.2058 - acc: 0.9804 - false_positives_2: 330.3315 - false_negatives_2: 104.6326 - val_loss: 0.0965 - val_acc: 0.9867 - val_false_positives_2: 93.0000 - val_false_negatives_2: 60.0000\n",
            "Epoch 21/100\n",
            "361/361 [==============================] - 50s 139ms/step - loss: 0.2010 - acc: 0.9810 - false_positives_2: 351.3094 - false_negatives_2: 101.6354 - val_loss: 0.0972 - val_acc: 0.9883 - val_false_positives_2: 84.0000 - val_false_negatives_2: 51.0000\n",
            "Epoch 22/100\n",
            "361/361 [==============================] - 50s 139ms/step - loss: 0.1941 - acc: 0.9835 - false_positives_2: 282.4724 - false_negatives_2: 101.2127 - val_loss: 0.0976 - val_acc: 0.9856 - val_false_positives_2: 119.0000 - val_false_negatives_2: 47.0000\n",
            "Epoch 23/100\n",
            "361/361 [==============================] - 50s 139ms/step - loss: 0.1826 - acc: 0.9841 - false_positives_2: 281.8978 - false_negatives_2: 87.5994 - val_loss: 0.1170 - val_acc: 0.9785 - val_false_positives_2: 207.0000 - val_false_negatives_2: 41.0000\n",
            "Epoch 24/100\n",
            "361/361 [==============================] - 50s 138ms/step - loss: 0.1871 - acc: 0.9822 - false_positives_2: 315.9972 - false_negatives_2: 87.7155 - val_loss: 0.1143 - val_acc: 0.9824 - val_false_positives_2: 159.0000 - val_false_negatives_2: 44.0000\n",
            "Epoch 25/100\n",
            "361/361 [==============================] - 50s 137ms/step - loss: 0.1705 - acc: 0.9858 - false_positives_2: 250.5138 - false_negatives_2: 84.1796 - val_loss: 0.0934 - val_acc: 0.9892 - val_false_positives_2: 69.0000 - val_false_negatives_2: 55.0000\n",
            "Epoch 26/100\n",
            "361/361 [==============================] - 49s 136ms/step - loss: 0.1779 - acc: 0.9859 - false_positives_2: 255.7624 - false_negatives_2: 91.7956 - val_loss: 0.0993 - val_acc: 0.9843 - val_false_positives_2: 136.0000 - val_false_negatives_2: 45.0000\n",
            "Epoch 27/100\n",
            "361/361 [==============================] - 49s 136ms/step - loss: 0.1788 - acc: 0.9855 - false_positives_2: 259.0497 - false_negatives_2: 79.8923 - val_loss: 0.1090 - val_acc: 0.9812 - val_false_positives_2: 178.0000 - val_false_negatives_2: 39.0000\n",
            "Epoch 28/100\n",
            "361/361 [==============================] - 49s 136ms/step - loss: 0.1714 - acc: 0.9858 - false_positives_2: 246.2265 - false_negatives_2: 76.8536 - val_loss: 0.1092 - val_acc: 0.9847 - val_false_positives_2: 128.0000 - val_false_negatives_2: 48.0000\n",
            "Epoch 29/100\n",
            "361/361 [==============================] - 50s 137ms/step - loss: 0.1587 - acc: 0.9871 - false_positives_2: 239.9558 - false_negatives_2: 72.7818 - val_loss: 0.1457 - val_acc: 0.9728 - val_false_positives_2: 281.0000 - val_false_negatives_2: 33.0000\n",
            "Epoch 30/100\n",
            "361/361 [==============================] - 50s 137ms/step - loss: 0.1688 - acc: 0.9851 - false_positives_2: 239.1823 - false_negatives_2: 81.0331 - val_loss: 0.0926 - val_acc: 0.9885 - val_false_positives_2: 84.0000 - val_false_negatives_2: 48.0000\n",
            "Epoch 31/100\n",
            "361/361 [==============================] - 49s 137ms/step - loss: 0.1683 - acc: 0.9866 - false_positives_2: 246.0442 - false_negatives_2: 81.4199 - val_loss: 0.1010 - val_acc: 0.9844 - val_false_positives_2: 141.0000 - val_false_negatives_2: 39.0000\n",
            "Epoch 32/100\n",
            "361/361 [==============================] - 49s 137ms/step - loss: 0.1672 - acc: 0.9851 - false_positives_2: 257.0276 - false_negatives_2: 75.2238 - val_loss: 0.0995 - val_acc: 0.9842 - val_false_positives_2: 142.0000 - val_false_negatives_2: 40.0000\n",
            "Epoch 33/100\n",
            "361/361 [==============================] - 49s 137ms/step - loss: 0.1581 - acc: 0.9870 - false_positives_2: 234.7956 - false_negatives_2: 78.2431 - val_loss: 0.1106 - val_acc: 0.9814 - val_false_positives_2: 175.0000 - val_false_negatives_2: 39.0000\n",
            "Epoch 34/100\n",
            "361/361 [==============================] - 50s 137ms/step - loss: 0.1624 - acc: 0.9856 - false_positives_2: 263.7845 - false_negatives_2: 72.6768 - val_loss: 0.0917 - val_acc: 0.9867 - val_false_positives_2: 110.0000 - val_false_negatives_2: 43.0000\n",
            "Epoch 35/100\n",
            "361/361 [==============================] - 49s 137ms/step - loss: 0.1662 - acc: 0.9867 - false_positives_2: 225.8867 - false_negatives_2: 74.5552 - val_loss: 0.0924 - val_acc: 0.9886 - val_false_positives_2: 89.0000 - val_false_negatives_2: 42.0000\n",
            "Epoch 36/100\n",
            "361/361 [==============================] - 49s 137ms/step - loss: 0.1585 - acc: 0.9870 - false_positives_2: 237.9862 - false_negatives_2: 75.7486 - val_loss: 0.0919 - val_acc: 0.9863 - val_false_positives_2: 116.0000 - val_false_negatives_2: 42.0000\n",
            "Epoch 37/100\n",
            "361/361 [==============================] - 50s 138ms/step - loss: 0.1545 - acc: 0.9868 - false_positives_2: 236.2514 - false_negatives_2: 70.3646 - val_loss: 0.1066 - val_acc: 0.9794 - val_false_positives_2: 200.0000 - val_false_negatives_2: 37.0000\n",
            "Epoch 38/100\n",
            "361/361 [==============================] - 50s 137ms/step - loss: 0.1494 - acc: 0.9878 - false_positives_2: 216.4917 - false_negatives_2: 76.3729 - val_loss: 0.0877 - val_acc: 0.9892 - val_false_positives_2: 83.0000 - val_false_negatives_2: 42.0000\n",
            "Epoch 39/100\n",
            "361/361 [==============================] - 49s 137ms/step - loss: 0.1384 - acc: 0.9902 - false_positives_2: 183.9779 - false_negatives_2: 64.3425 - val_loss: 0.1629 - val_acc: 0.9612 - val_false_positives_2: 414.0000 - val_false_negatives_2: 33.0000\n",
            "Epoch 40/100\n",
            "361/361 [==============================] - 49s 136ms/step - loss: 0.1651 - acc: 0.9844 - false_positives_2: 256.7597 - false_negatives_2: 79.3011 - val_loss: 0.1002 - val_acc: 0.9828 - val_false_positives_2: 158.0000 - val_false_negatives_2: 40.0000\n",
            "Epoch 41/100\n",
            "361/361 [==============================] - 49s 137ms/step - loss: 0.1554 - acc: 0.9868 - false_positives_2: 216.1878 - false_negatives_2: 72.5055 - val_loss: 0.0902 - val_acc: 0.9846 - val_false_positives_2: 142.0000 - val_false_negatives_2: 36.0000\n",
            "Epoch 42/100\n",
            "361/361 [==============================] - 49s 136ms/step - loss: 0.1411 - acc: 0.9870 - false_positives_2: 237.6657 - false_negatives_2: 63.3122 - val_loss: 0.0908 - val_acc: 0.9868 - val_false_positives_2: 108.0000 - val_false_negatives_2: 44.0000\n",
            "Epoch 43/100\n",
            "361/361 [==============================] - 50s 137ms/step - loss: 0.1622 - acc: 0.9866 - false_positives_2: 232.3177 - false_negatives_2: 74.8122 - val_loss: 0.0880 - val_acc: 0.9873 - val_false_positives_2: 94.0000 - val_false_negatives_2: 52.0000\n",
            "Epoch 44/100\n",
            "361/361 [==============================] - 49s 136ms/step - loss: 0.1564 - acc: 0.9856 - false_positives_2: 242.5939 - false_negatives_2: 78.3260 - val_loss: 0.0859 - val_acc: 0.9877 - val_false_positives_2: 99.0000 - val_false_negatives_2: 43.0000\n",
            "Epoch 45/100\n",
            "361/361 [==============================] - 50s 137ms/step - loss: 0.1540 - acc: 0.9882 - false_positives_2: 202.0773 - false_negatives_2: 72.0525 - val_loss: 0.1033 - val_acc: 0.9796 - val_false_positives_2: 199.0000 - val_false_negatives_2: 36.0000\n",
            "Epoch 46/100\n",
            "361/361 [==============================] - 49s 137ms/step - loss: 0.1392 - acc: 0.9882 - false_positives_2: 220.7320 - false_negatives_2: 58.0083 - val_loss: 0.1031 - val_acc: 0.9822 - val_false_positives_2: 169.0000 - val_false_negatives_2: 36.0000\n",
            "Epoch 47/100\n",
            "361/361 [==============================] - 49s 137ms/step - loss: 0.1375 - acc: 0.9885 - false_positives_2: 212.3204 - false_negatives_2: 59.4309 - val_loss: 0.0753 - val_acc: 0.9914 - val_false_positives_2: 54.0000 - val_false_negatives_2: 45.0000\n",
            "Epoch 48/100\n",
            "361/361 [==============================] - 49s 136ms/step - loss: 0.1445 - acc: 0.9891 - false_positives_2: 205.2707 - false_negatives_2: 61.5939 - val_loss: 0.0837 - val_acc: 0.9892 - val_false_positives_2: 84.0000 - val_false_negatives_2: 41.0000\n",
            "Epoch 49/100\n",
            "361/361 [==============================] - 49s 137ms/step - loss: 0.1449 - acc: 0.9885 - false_positives_2: 205.3895 - false_negatives_2: 64.0249 - val_loss: 0.0840 - val_acc: 0.9896 - val_false_positives_2: 81.0000 - val_false_negatives_2: 39.0000\n",
            "Epoch 50/100\n",
            "361/361 [==============================] - 49s 137ms/step - loss: 0.1425 - acc: 0.9892 - false_positives_2: 203.7901 - false_negatives_2: 65.2320 - val_loss: 0.0779 - val_acc: 0.9903 - val_false_positives_2: 65.0000 - val_false_negatives_2: 47.0000\n",
            "Epoch 51/100\n",
            "361/361 [==============================] - 49s 136ms/step - loss: 0.1380 - acc: 0.9898 - false_positives_2: 187.6243 - false_negatives_2: 61.3370 - val_loss: 0.0800 - val_acc: 0.9882 - val_false_positives_2: 99.0000 - val_false_negatives_2: 37.0000\n",
            "Epoch 52/100\n",
            "361/361 [==============================] - 49s 136ms/step - loss: 0.1267 - acc: 0.9878 - false_positives_2: 224.0497 - false_negatives_2: 56.3619 - val_loss: 0.1021 - val_acc: 0.9837 - val_false_positives_2: 152.0000 - val_false_negatives_2: 36.0000\n",
            "Epoch 53/100\n",
            "361/361 [==============================] - 49s 136ms/step - loss: 0.1408 - acc: 0.9887 - false_positives_2: 199.6409 - false_negatives_2: 65.9475 - val_loss: 0.1050 - val_acc: 0.9812 - val_false_positives_2: 180.0000 - val_false_negatives_2: 37.0000\n",
            "Epoch 54/100\n",
            "361/361 [==============================] - 49s 136ms/step - loss: 0.1447 - acc: 0.9898 - false_positives_2: 163.5746 - false_negatives_2: 69.0000 - val_loss: 0.0904 - val_acc: 0.9866 - val_false_positives_2: 112.0000 - val_false_negatives_2: 42.0000\n",
            "Epoch 55/100\n",
            "361/361 [==============================] - 49s 136ms/step - loss: 0.1346 - acc: 0.9897 - false_positives_2: 176.8425 - false_negatives_2: 60.3481 - val_loss: 0.1218 - val_acc: 0.9794 - val_false_positives_2: 198.0000 - val_false_negatives_2: 39.0000\n",
            "Epoch 56/100\n",
            "361/361 [==============================] - 49s 137ms/step - loss: 0.1393 - acc: 0.9893 - false_positives_2: 187.4945 - false_negatives_2: 66.6630 - val_loss: 0.0998 - val_acc: 0.9815 - val_false_positives_2: 182.0000 - val_false_negatives_2: 31.0000\n",
            "Epoch 57/100\n",
            "361/361 [==============================] - 50s 138ms/step - loss: 0.1506 - acc: 0.9859 - false_positives_2: 241.2293 - false_negatives_2: 66.4530 - val_loss: 0.1074 - val_acc: 0.9781 - val_false_positives_2: 219.0000 - val_false_negatives_2: 33.0000\n",
            "[[12700   259]\n",
            " [   73  1376]]\n",
            "              precision    recall  f1-score   support\n",
            "\n",
            "         0.0       0.99      0.98      0.99     12959\n",
            "         1.0       0.84      0.95      0.89      1449\n",
            "\n",
            "    accuracy                           0.98     14408\n",
            "   macro avg       0.92      0.96      0.94     14408\n",
            "weighted avg       0.98      0.98      0.98     14408\n",
            "\n",
            "dict_keys(['loss', 'acc', 'false_positives_2', 'false_negatives_2', 'val_loss', 'val_acc', 'val_false_positives_2', 'val_false_negatives_2'])\n"
          ],
          "name": "stdout"
        },
        {
          "output_type": "display_data",
          "data": {
            "image/png": "[encoded data removed]",
            "text/plain": [
              "<Figure size 432x288 with 1 Axes>"
            ]
          },
          "metadata": {
            "tags": []
          }
        },
        {
          "output_type": "display_data",
          "data": {
            "image/png": "[encoded data removed]",
            "text/plain": [
              "<Figure size 432x288 with 1 Axes>"
            ]
          },
          "metadata": {
            "tags": []
          }
        },
        {
          "output_type": "display_data",
          "data": {
            "image/png": "[encoded data removed]",
            "text/plain": [
              "<Figure size 432x288 with 1 Axes>"
            ]
          },
          "metadata": {
            "tags": []
          }
        },
        {
          "output_type": "display_data",
          "data": {
            "image/png": "[encoded data removed]",
            "text/plain": [
              "<Figure size 432x288 with 1 Axes>"
            ]
          },
          "metadata": {
            "tags": []
          }
        }
      ]
    },
    {
      "cell_type": "code",
      "metadata": {
        "colab": {
          "base_uri": "https://localhost:8080/"
        },
        "id": "YpPB3EYBWNRY",
        "outputId": "fb71cf84-f552-4106-cdda-e1ea75c295ff"
      },
      "source": [
        "tf.__version__, np.__version__, pd.__version__"
      ],
      "execution_count": null,
      "outputs": [
        {
          "output_type": "execute_result",
          "data": {
            "text/plain": [
              "('2.4.1', '1.19.5', '1.1.5')"
            ]
          },
          "metadata": {
            "tags": []
          },
          "execution_count": 8
        }
      ]
    }
  ]
}